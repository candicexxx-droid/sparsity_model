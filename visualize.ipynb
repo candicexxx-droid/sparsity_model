{
 "cells": [
  {
   "cell_type": "code",
   "execution_count": 33,
   "metadata": {},
   "outputs": [],
   "source": [
    "import torch\n",
    "import matplotlib.pyplot as plt\n",
    "import models\n",
    "import json\n",
    "from utils import *"
   ]
  },
  {
   "cell_type": "code",
   "execution_count": 35,
   "metadata": {},
   "outputs": [],
   "source": [
    "path='/Users/candicecai/Library/Mobile Documents/com~apple~CloudDocs/Desktop2/StarAI/sparsity_model/log/Jul03_18-23-57_id0'\n",
    "# path='/Users/candicecai/Library/Mobile Documents/com~apple~CloudDocs/Desktop2/StarAI/sparsity_model/log/compare2/Jun29_13-44-35_id2_arrayPC-bs-4-opt-SGD-sanity_check'\n",
    "with open(path+\"/hyperparam.json\") as json_file:\n",
    "    opt = json.load(json_file)\n",
    "\n",
    "train_data, valid_data, test_data= DatasetFromFile(opt['data']),DatasetFromFile(opt['data'], 'valid'),DatasetFromFile(opt['data'],'test')\n",
    "train_dl, valid_dl, test_dl = DataLoader(train_data, batch_size=opt['batch_size']),DataLoader(valid_data, batch_size=opt['batch_size']),DataLoader(test_data, batch_size=opt['batch_size'])\n",
    "model = getattr(models, opt['model'])(train_data.info)\n",
    "chpt = torch.load(path+'/end_chpt.pt')\n"
   ]
  },
  {
   "cell_type": "code",
   "execution_count": 37,
   "metadata": {},
   "outputs": [],
   "source": [
    "outputs = []\n",
    "for i in train_dl:\n",
    "    out = model(i)\n",
    "    outputs.append(out)\n",
    "outputs = torch.cat(outputs)\n"
   ]
  },
  {
   "cell_type": "code",
   "execution_count": 38,
   "metadata": {},
   "outputs": [
    {
     "data": {
      "text/plain": [
       "tensor(197.1467, grad_fn=<SumBackward0>)"
      ]
     },
     "execution_count": 38,
     "metadata": {},
     "output_type": "execute_result"
    }
   ],
   "source": [
    "(torch.exp(outputs)).sum()"
   ]
  },
  {
   "cell_type": "code",
   "execution_count": 16,
   "metadata": {},
   "outputs": [
    {
     "data": {
      "text/plain": [
       "models.arrayPC"
      ]
     },
     "execution_count": 16,
     "metadata": {},
     "output_type": "execute_result"
    }
   ],
   "source": [
    "type(model)"
   ]
  },
  {
   "cell_type": "code",
   "execution_count": 36,
   "metadata": {},
   "outputs": [
    {
     "data": {
      "text/plain": [
       "{'k': 3, 'n': 10}"
      ]
     },
     "execution_count": 36,
     "metadata": {},
     "output_type": "execute_result"
    }
   ],
   "source": [
    "train_data.info"
   ]
  },
  {
   "cell_type": "code",
   "execution_count": null,
   "metadata": {},
   "outputs": [],
   "source": []
  }
 ],
 "metadata": {
  "interpreter": {
   "hash": "735d2d29c4ee8a473b2cb68554354cb1312d5a96a535f1f9a980fbc63d3c31b2"
  },
  "kernelspec": {
   "display_name": "Python 3.9.7 64-bit ('anaconda3': conda)",
   "language": "python",
   "name": "python3"
  },
  "language_info": {
   "codemirror_mode": {
    "name": "ipython",
    "version": 3
   },
   "file_extension": ".py",
   "mimetype": "text/x-python",
   "name": "python",
   "nbconvert_exporter": "python",
   "pygments_lexer": "ipython3",
   "version": "3.9.7"
  },
  "orig_nbformat": 4
 },
 "nbformat": 4,
 "nbformat_minor": 2
}
